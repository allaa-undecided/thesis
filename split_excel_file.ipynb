{
 "cells": [
  {
   "cell_type": "code",
   "execution_count": 15,
   "metadata": {},
   "outputs": [],
   "source": [
    "import pandas as pd\n",
    "import os"
   ]
  },
  {
   "cell_type": "code",
   "execution_count": 16,
   "metadata": {},
   "outputs": [
    {
     "data": {
      "text/html": [
       "<div>\n",
       "<style scoped>\n",
       "    .dataframe tbody tr th:only-of-type {\n",
       "        vertical-align: middle;\n",
       "    }\n",
       "\n",
       "    .dataframe tbody tr th {\n",
       "        vertical-align: top;\n",
       "    }\n",
       "\n",
       "    .dataframe thead th {\n",
       "        text-align: right;\n",
       "    }\n",
       "</style>\n",
       "<table border=\"1\" class=\"dataframe\">\n",
       "  <thead>\n",
       "    <tr style=\"text-align: right;\">\n",
       "      <th></th>\n",
       "      <th>Unnamed: 0</th>\n",
       "      <th>Right</th>\n",
       "      <th>Unnamed: 2</th>\n",
       "      <th>Unnamed: 3</th>\n",
       "      <th>Unnamed: 4</th>\n",
       "      <th>Left</th>\n",
       "      <th>Unnamed: 6</th>\n",
       "      <th>Unnamed: 7</th>\n",
       "      <th>Unnamed: 8</th>\n",
       "    </tr>\n",
       "  </thead>\n",
       "  <tbody>\n",
       "    <tr>\n",
       "      <th>0</th>\n",
       "      <td>NaN</td>\n",
       "      <td>Angulation</td>\n",
       "      <td>Vertical Height</td>\n",
       "      <td>Overlap</td>\n",
       "      <td>Apex Position</td>\n",
       "      <td>Angulation</td>\n",
       "      <td>Vertical Height</td>\n",
       "      <td>Overlap</td>\n",
       "      <td>Apex Position</td>\n",
       "    </tr>\n",
       "    <tr>\n",
       "      <th>1</th>\n",
       "      <td>Case Number</td>\n",
       "      <td>Paramater 1</td>\n",
       "      <td>Parameter 2</td>\n",
       "      <td>Parameter 3</td>\n",
       "      <td>Parameter 4</td>\n",
       "      <td>Paramater 1</td>\n",
       "      <td>Parameter 2</td>\n",
       "      <td>Parameter 3</td>\n",
       "      <td>Parameter 4</td>\n",
       "    </tr>\n",
       "    <tr>\n",
       "      <th>2</th>\n",
       "      <td>1</td>\n",
       "      <td>NaN</td>\n",
       "      <td>NaN</td>\n",
       "      <td>NaN</td>\n",
       "      <td>NaN</td>\n",
       "      <td>Poor</td>\n",
       "      <td>Average</td>\n",
       "      <td>Poor</td>\n",
       "      <td>Poor</td>\n",
       "    </tr>\n",
       "    <tr>\n",
       "      <th>3</th>\n",
       "      <td>2</td>\n",
       "      <td>Good</td>\n",
       "      <td>Good</td>\n",
       "      <td>Good</td>\n",
       "      <td>Good</td>\n",
       "      <td>Good</td>\n",
       "      <td>Good</td>\n",
       "      <td>Good</td>\n",
       "      <td>Good</td>\n",
       "    </tr>\n",
       "    <tr>\n",
       "      <th>4</th>\n",
       "      <td>3</td>\n",
       "      <td>NaN</td>\n",
       "      <td>NaN</td>\n",
       "      <td>NaN</td>\n",
       "      <td>NaN</td>\n",
       "      <td>Poor</td>\n",
       "      <td>Good</td>\n",
       "      <td>Poor</td>\n",
       "      <td>Average</td>\n",
       "    </tr>\n",
       "  </tbody>\n",
       "</table>\n",
       "</div>"
      ],
      "text/plain": [
       "    Unnamed: 0        Right       Unnamed: 2   Unnamed: 3     Unnamed: 4  \\\n",
       "0          NaN   Angulation  Vertical Height      Overlap  Apex Position   \n",
       "1  Case Number  Paramater 1      Parameter 2  Parameter 3    Parameter 4   \n",
       "2            1          NaN              NaN          NaN            NaN   \n",
       "3            2         Good             Good         Good           Good   \n",
       "4            3          NaN              NaN          NaN            NaN   \n",
       "\n",
       "          Left       Unnamed: 6   Unnamed: 7     Unnamed: 8  \n",
       "0   Angulation  Vertical Height      Overlap  Apex Position  \n",
       "1  Paramater 1      Parameter 2  Parameter 3    Parameter 4  \n",
       "2         Poor          Average         Poor           Poor  \n",
       "3         Good             Good         Good           Good  \n",
       "4         Poor             Good         Poor        Average  "
      ]
     },
     "execution_count": 16,
     "metadata": {},
     "output_type": "execute_result"
    }
   ],
   "source": [
    "file_path = \"../data/data_3dec/\"\n",
    "file_name = \"canine_cases_labelled.xlsx\"\n",
    "df = pd.read_excel(os.path.join(file_path, file_name))\n",
    "\n",
    "df.head()"
   ]
  },
  {
   "cell_type": "code",
   "execution_count": 17,
   "metadata": {},
   "outputs": [],
   "source": [
    "# split colmns \n",
    "\n",
    "right_columns = ['Unnamed: 0', 'Right', 'Unnamed: 2', 'Unnamed: 3', 'Unnamed: 4']\n",
    "left_columns = ['Unnamed: 0', 'Left', 'Unnamed: 6', 'Unnamed: 7', 'Unnamed: 8']\n",
    "\n",
    "right_cases = df[right_columns]\n",
    "left_cases = df[left_columns]"
   ]
  },
  {
   "cell_type": "code",
   "execution_count": 18,
   "metadata": {},
   "outputs": [],
   "source": [
    "right_cases = right_cases.drop([0, 1])\n",
    "left_cases = left_cases.drop([0, 1])"
   ]
  },
  {
   "cell_type": "code",
   "execution_count": 19,
   "metadata": {},
   "outputs": [],
   "source": [
    "# rename columns\n",
    "\n",
    "columns = [\"Case Number\", \"Parameter 1\", \"Parameter 2\", \"Parameter 3\", \"Parameter 4\"]\n",
    "\n",
    "right_cases.columns = columns\n",
    "left_cases.columns = columns"
   ]
  },
  {
   "cell_type": "code",
   "execution_count": 20,
   "metadata": {},
   "outputs": [],
   "source": [
    "# set index\n",
    "\n",
    "right_cases = right_cases.set_index(\"Case Number\")\n",
    "left_cases = left_cases.set_index(\"Case Number\")\n"
   ]
  },
  {
   "cell_type": "code",
   "execution_count": 21,
   "metadata": {},
   "outputs": [],
   "source": [
    "# save to csv\n",
    "file_path\n",
    "\n",
    "right_cases.to_csv(f\"{file_path}/right_cases.csv\")\n",
    "left_cases.to_csv(f\"{file_path}/left_cases.csv\")"
   ]
  },
  {
   "cell_type": "code",
   "execution_count": null,
   "metadata": {},
   "outputs": [],
   "source": []
  }
 ],
 "metadata": {
  "kernelspec": {
   "display_name": "allaa",
   "language": "python",
   "name": "python3"
  },
  "language_info": {
   "codemirror_mode": {
    "name": "ipython",
    "version": 3
   },
   "file_extension": ".py",
   "mimetype": "text/x-python",
   "name": "python",
   "nbconvert_exporter": "python",
   "pygments_lexer": "ipython3",
   "version": "3.9.18"
  }
 },
 "nbformat": 4,
 "nbformat_minor": 2
}
